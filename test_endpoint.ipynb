{
 "cells": [
  {
   "cell_type": "code",
   "execution_count": 1,
   "id": "df9c4d03",
   "metadata": {},
   "outputs": [],
   "source": [
    "import base64\n",
    "import requests\n",
    "import cv2\n",
    "import matplotlib.pyplot as plt\n",
    "from PIL import Image\n",
    "import numpy as np\n",
    "from ast import literal_eval"
   ]
  },
  {
   "cell_type": "code",
   "execution_count": 2,
   "id": "2e6597f4",
   "metadata": {},
   "outputs": [],
   "source": [
    "def decode_prediction(pred):\n",
    "    mask = np.zeros((pred.shape[0], pred.shape[0]))\n",
    "\n",
    "    for i in range(pred.shape[0]):\n",
    "        for j in range(pred.shape[1]):\n",
    "\n",
    "            mask[i,j] = np.argmax(pred[i,j,:])\n",
    "\n",
    "    return mask"
   ]
  },
  {
   "cell_type": "code",
   "execution_count": 3,
   "id": "1631067c",
   "metadata": {},
   "outputs": [],
   "source": [
    "image_path = './data/504.png'\n",
    "uri = 'http://880c00d6-8d90-43c7-a1da-84059e8a5071.eastus.azurecontainer.io/score'"
   ]
  },
  {
   "cell_type": "code",
   "execution_count": 4,
   "id": "ccb1ee7a",
   "metadata": {},
   "outputs": [],
   "source": [
    "files = {'image': open(image_path, 'rb').read()}"
   ]
  },
  {
   "cell_type": "code",
   "execution_count": 5,
   "id": "c17b9f46",
   "metadata": {},
   "outputs": [],
   "source": [
    "response = requests.post(uri, files=files)"
   ]
  },
  {
   "cell_type": "code",
   "execution_count": 6,
   "id": "397b8464",
   "metadata": {},
   "outputs": [
    {
     "name": "stdout",
     "output_type": "stream",
     "text": [
      "<bound method Response.json of <Response [200]>>\n"
     ]
    }
   ],
   "source": [
    "print(response.json)"
   ]
  },
  {
   "cell_type": "code",
   "execution_count": 9,
   "id": "aac311e4",
   "metadata": {},
   "outputs": [],
   "source": [
    "mask = decode_prediction(np.asarray(literal_eval(response.text)[0]))"
   ]
  },
  {
   "cell_type": "code",
   "execution_count": 10,
   "id": "9bef40ae",
   "metadata": {},
   "outputs": [
    {
     "data": {
      "text/plain": [
       "<matplotlib.image.AxesImage at 0x7fe8ce9fa130>"
      ]
     },
     "execution_count": 10,
     "metadata": {},
     "output_type": "execute_result"
    },
    {
     "data": {
      "image/png": "[encoded data removed]",
      "text/plain": [
       "<Figure size 432x288 with 1 Axes>"
      ]
     },
     "metadata": {
      "needs_background": "light"
     },
     "output_type": "display_data"
    }
   ],
   "source": [
    "plt.imshow(mask)"
   ]
  },
  {
   "cell_type": "code",
   "execution_count": null,
   "id": "cc9de3d9",
   "metadata": {},
   "outputs": [],
   "source": []
  }
 ],
 "metadata": {
  "kernelspec": {
   "display_name": "Python 3",
   "language": "python",
   "name": "python3"
  },
  "language_info": {
   "codemirror_mode": {
    "name": "ipython",
    "version": 3
   },
   "file_extension": ".py",
   "mimetype": "text/x-python",
   "name": "python",
   "nbconvert_exporter": "python",
   "pygments_lexer": "ipython3",
   "version": "3.8.10"
  }
 },
 "nbformat": 4,
 "nbformat_minor": 5
}
